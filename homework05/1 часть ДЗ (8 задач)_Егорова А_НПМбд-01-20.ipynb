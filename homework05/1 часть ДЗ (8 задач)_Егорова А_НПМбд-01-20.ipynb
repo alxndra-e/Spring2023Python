{
 "cells": [
  {
   "cell_type": "markdown",
   "id": "396aafc4",
   "metadata": {},
   "source": [
    "1. Четные индексы"
   ]
  },
  {
   "cell_type": "code",
   "execution_count": 1,
   "id": "e27e9681",
   "metadata": {},
   "outputs": [
    {
     "name": "stdout",
     "output_type": "stream",
     "text": [
      "1 2 3 4 5\n",
      "1 3 5\n"
     ]
    }
   ],
   "source": [
    "print(' '.join(input().split()[::2]))"
   ]
  },
  {
   "cell_type": "markdown",
   "id": "d463894e",
   "metadata": {},
   "source": [
    "2. Наибольший элемент и его индекс"
   ]
  },
  {
   "cell_type": "code",
   "execution_count": 9,
   "id": "4aa115c3",
   "metadata": {},
   "outputs": [
    {
     "name": "stdout",
     "output_type": "stream",
     "text": [
      "1 2 3 2 1\n",
      "3 2\n"
     ]
    }
   ],
   "source": [
    "a = list(map(int, input().split()))\n",
    "print(max(a), a.index(max(a)))"
   ]
  },
  {
   "cell_type": "markdown",
   "id": "ad0c9b94",
   "metadata": {},
   "source": [
    "3. Вывести в обратном порядке"
   ]
  },
  {
   "cell_type": "code",
   "execution_count": 1,
   "id": "a960166a",
   "metadata": {},
   "outputs": [
    {
     "name": "stdout",
     "output_type": "stream",
     "text": [
      "1 2 3 4 5\n",
      "5 4 3 2 1\n"
     ]
    }
   ],
   "source": [
    "print(' '.join(input().split()[::-1]))"
   ]
  },
  {
   "cell_type": "markdown",
   "id": "807d6fb5",
   "metadata": {},
   "source": [
    "4. Переставить соседние"
   ]
  },
  {
   "cell_type": "code",
   "execution_count": 4,
   "id": "93fabd81",
   "metadata": {},
   "outputs": [
    {
     "name": "stdout",
     "output_type": "stream",
     "text": [
      "1 2 3 4 5\n",
      "2 1 4 3 5\n"
     ]
    }
   ],
   "source": [
    "a = input().split()\n",
    "a[:-1:2], a[1::2] = a[1::2], a[:-1:2]\n",
    "print(' '.join(a))"
   ]
  },
  {
   "cell_type": "markdown",
   "id": "250e9638",
   "metadata": {},
   "source": [
    "5. Циклический сдвиг вправо"
   ]
  },
  {
   "cell_type": "code",
   "execution_count": 5,
   "id": "ff2d3fc9",
   "metadata": {},
   "outputs": [
    {
     "name": "stdout",
     "output_type": "stream",
     "text": [
      "1 2 3 4 5\n",
      "2 3 4 5 1\n"
     ]
    }
   ],
   "source": [
    "a = input().split()\n",
    "print(' '.join(a[1:]), a[0])"
   ]
  },
  {
   "cell_type": "markdown",
   "id": "d8b0e4bb",
   "metadata": {},
   "source": [
    "6. Удалить элемент"
   ]
  },
  {
   "cell_type": "code",
   "execution_count": 6,
   "id": "1088946d",
   "metadata": {},
   "outputs": [
    {
     "name": "stdout",
     "output_type": "stream",
     "text": [
      "7 6 5 4 3 2 1\n",
      "2\n",
      "7 6 4 3 2 1\n"
     ]
    }
   ],
   "source": [
    "a = input().split()\n",
    "i = int(input())\n",
    "print(' '.join(a[:i] + a[i+1:]))"
   ]
  },
  {
   "cell_type": "markdown",
   "id": "482f492e",
   "metadata": {},
   "source": [
    "7. Вставить элемент"
   ]
  },
  {
   "cell_type": "code",
   "execution_count": 7,
   "id": "dd6106ce",
   "metadata": {},
   "outputs": [
    {
     "name": "stdout",
     "output_type": "stream",
     "text": [
      "7 6 5 4 3 2 1\n",
      "2 0\n",
      "7 6 0 5 4 3 2 1\n"
     ]
    }
   ],
   "source": [
    "a = input().split()\n",
    "n, elem = map(int, input().split())\n",
    "print(' '.join(a[:n]), elem, ' '.join(a[n:]))"
   ]
  },
  {
   "cell_type": "markdown",
   "id": "684d7f28",
   "metadata": {},
   "source": [
    "8. Большой сдвиг"
   ]
  },
  {
   "cell_type": "code",
   "execution_count": 8,
   "id": "c379fc6c",
   "metadata": {},
   "outputs": [
    {
     "name": "stdout",
     "output_type": "stream",
     "text": [
      "5 3 7 4 6\n",
      "3\n",
      "7 4 6 5 3\n"
     ]
    }
   ],
   "source": [
    "a, i = input().split(), int(input())\n",
    "print(' '.join(a[i-1:] + a[:i-1]))"
   ]
  },
  {
   "cell_type": "code",
   "execution_count": null,
   "id": "2461f7bf",
   "metadata": {},
   "outputs": [],
   "source": []
  }
 ],
 "metadata": {
  "kernelspec": {
   "display_name": "Python 3 (ipykernel)",
   "language": "python",
   "name": "python3"
  },
  "language_info": {
   "codemirror_mode": {
    "name": "ipython",
    "version": 3
   },
   "file_extension": ".py",
   "mimetype": "text/x-python",
   "name": "python",
   "nbconvert_exporter": "python",
   "pygments_lexer": "ipython3",
   "version": "3.9.12"
  }
 },
 "nbformat": 4,
 "nbformat_minor": 5
}
